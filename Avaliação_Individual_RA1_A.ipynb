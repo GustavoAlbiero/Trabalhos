{
  "nbformat": 4,
  "nbformat_minor": 0,
  "metadata": {
    "colab": {
      "provenance": []
    },
    "kernelspec": {
      "name": "python3",
      "display_name": "Python 3"
    },
    "language_info": {
      "name": "python"
    }
  },
  "cells": [
    {
      "cell_type": "markdown",
      "source": [
        "# Instruções:\n",
        "Para a realização desta tarefa você precisa fazer uma cópia deste carderno de questões para a sua conta. Você responderá a questão colando no AVA o link para a sua cópia contendo as suas respostas. \n",
        "\n",
        "Todas as questões precisam ser resolvidas algébrica e computacionalmente. Usando todos os recursos computacionais disponíveis na internet. Mas, **você não pode consultar outros seres humanos.** \n",
        "\n",
        "**Não se equeça de preencher seu nome nesta célula:**\n",
        "# Nome: Gustavo Albiero de Oliveira"
      ],
      "metadata": {
        "id": "C0wsfxvc_qF7"
      }
    },
    {
      "cell_type": "markdown",
      "source": [
        "# Questão 1: \n",
        "A população de uma cidade está crescendo exponencialmente. No ano de 2020, a população era de 50.000 habitantes, e a taxa de crescimento anual é de 3%. Qual será a população em 2030? Use a fórmula:\n",
        "\n",
        "$$\n",
        "P(t) = P_0 \\cdot (1 + r)^t\n",
        "$$\n",
        "\n",
        "onde $P_0$ é a população inicial, $r$ é a taxa de crescimento e $t$ é o tempo em anos. Não se esqueça de traçar um gráfico mostrando o crescimento populacional entre os anos de 2020 e 2040, ano a ano.\n"
      ],
      "metadata": {
        "id": "xPjntyHxAclq"
      }
    },
    {
      "cell_type": "code",
      "execution_count": null,
      "metadata": {
        "id": "H-E4jwoh_kg4",
        "colab": {
          "base_uri": "https://localhost:8080/",
          "height": 276
        },
        "outputId": "9e748510-4017-4036-e78a-27234f8e8894"
      },
      "outputs": [
        {
          "output_type": "display_data",
          "data": {
            "text/plain": [
              "<Figure size 432x288 with 1 Axes>"
            ],
            "image/png": "[encoded data removed]"
          },
          "metadata": {
            "needs_background": "light"
          }
        }
      ],
      "source": [
        "import numpy as np\n",
        "import matplotlib.pyplot as plt\n",
        "\n",
        "def graph(func, x_range):\n",
        "\n",
        "   x = np.arange(*x_range)\n",
        "   y = func(x)\n",
        "\n",
        "   plt.plot(x, y)\n",
        "\n",
        "graph( lambda x: 50000*(np.power(1.03, x)), (2020,2050))"
      ]
    },
    {
      "cell_type": "markdown",
      "source": [
        "# Questão 2\n",
        "Usando, a seu critério as bibliotecas do Python, crie um gráfico para cada uma das funções a seguir. No label do gráfico deverá estar a função impressa com qualidade matemática (latex) e uma label dizendo se a função é crescente ou decrescente. \n",
        "\n",
        "1. $2^x + 3^x = 25$\n",
        "\n",
        "2. $\\log_2(x) - \\log_2(3) = 1$"
      ],
      "metadata": {
        "id": "gXHLbWynPNhe"
      }
    },
    {
      "cell_type": "code",
      "source": [
        "import numpy as np\n",
        "import matplotlib.pyplot as plt\n",
        "\n",
        "def f(x): return(2**x + 3**x)\n",
        "x = np.linspace(0,25) \n",
        "\n",
        "plt.plot(x, f(x))\n",
        "\n",
        "plt.show()\n",
        " "
      ],
      "metadata": {
        "id": "6vd7lcjeQS8h",
        "colab": {
          "base_uri": "https://localhost:8080/",
          "height": 276
        },
        "outputId": "61bea849-5b21-4ac9-a34e-e3da11873658"
      },
      "execution_count": null,
      "outputs": [
        {
          "output_type": "display_data",
          "data": {
            "text/plain": [
              "<Figure size 432x288 with 1 Axes>"
            ],
            "image/png": "[encoded data removed]"
          },
          "metadata": {
            "needs_background": "light"
          }
        }
      ]
    },
    {
      "cell_type": "markdown",
      "source": [
        "# Questão 3\n",
        "Usando o Sympy, ou qualquer outro recurso disponível na internet, escreva, com qualidade matemática o passo-a-passo algébrico que leva a determinação dos seguintes limites. Ao final, para cada uma das equações você deverá traçar um gráfico da função. \n",
        "\n",
        "1. $\\lim_{x \\to 2} \\frac{x^3 - 8}{x - 2}$\n",
        "\n",
        "2. $\\lim_{x \\to \\infty} \\frac{3x^2 + 2x - 1}{x^2 - 4x + 7}$\n",
        "\n"
      ],
      "metadata": {
        "id": "0Vv2m0IuQTYs"
      }
    },
    {
      "cell_type": "markdown",
      "source": [],
      "metadata": {
        "id": "BE9sdrwaZVbc"
      }
    }
  ]
}